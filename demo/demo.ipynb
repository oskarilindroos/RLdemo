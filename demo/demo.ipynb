{
 "cells": [
  {
   "cell_type": "code",
   "execution_count": 1,
   "id": "a055a78e-9ecb-4e43-a782-838d39cf0ccd",
   "metadata": {},
   "outputs": [
    {
     "name": "stderr",
     "output_type": "stream",
     "text": [
      "2024-10-28 15:38:51.224753: E external/local_xla/xla/stream_executor/cuda/cuda_fft.cc:477] Unable to register cuFFT factory: Attempting to register factory for plugin cuFFT when one has already been registered\n",
      "WARNING: All log messages before absl::InitializeLog() is called are written to STDERR\n",
      "E0000 00:00:1730129931.244410      22 cuda_dnn.cc:8310] Unable to register cuDNN factory: Attempting to register factory for plugin cuDNN when one has already been registered\n",
      "E0000 00:00:1730129931.250823      22 cuda_blas.cc:1418] Unable to register cuBLAS factory: Attempting to register factory for plugin cuBLAS when one has already been registered\n",
      "2024-10-28 15:38:51.267557: I tensorflow/core/platform/cpu_feature_guard.cc:210] This TensorFlow binary is optimized to use available CPU instructions in performance-critical operations.\n",
      "To enable the following instructions: AVX2 FMA, in other operations, rebuild TensorFlow with the appropriate compiler flags.\n"
     ]
    }
   ],
   "source": [
    "import gymnasium as gym\n",
    "import tensorflow as tf\n",
    "from stable_baselines3 import PPO\n",
    "from stable_baselines3.common.env_util import make_vec_env\n",
    "from stable_baselines3.common.evaluation import evaluate_policy\n",
    "from stable_baselines3.common.monitor import Monitor"
   ]
  },
  {
   "cell_type": "markdown",
   "id": "8bfef32a-7fc0-456a-a3d0-410930744d40",
   "metadata": {},
   "source": [
    "## Check that the GPU is recognized and available"
   ]
  },
  {
   "cell_type": "code",
   "execution_count": 2,
   "id": "9bc2a9cc-4cdd-4f8f-90a5-96f6ff3a8139",
   "metadata": {},
   "outputs": [
    {
     "name": "stderr",
     "output_type": "stream",
     "text": [
      "W0000 00:00:1730129936.906571      22 gpu_device.cc:2433] TensorFlow was not built with CUDA kernel binaries compatible with compute capability 5.0. CUDA kernels will be jit-compiled from PTX, which could take 30 minutes or longer.\n"
     ]
    }
   ],
   "source": [
    "assert tf.config.list_physical_devices('GPU')\n",
    "assert tf.test.is_built_with_cuda()"
   ]
  },
  {
   "cell_type": "markdown",
   "id": "706138f7-cd24-47a1-b08c-c270b5753b03",
   "metadata": {},
   "source": [
    "## Create the learning environment"
   ]
  },
  {
   "cell_type": "code",
   "execution_count": 3,
   "id": "96a53699-a5d8-450e-8064-cdea723b78c8",
   "metadata": {},
   "outputs": [],
   "source": [
    "#env = Monitor(gym.make('LunarLander-v2', render_mode='human'))\n",
    "env = gym.make('LunarLander-v2', render_mode='human')"
   ]
  },
  {
   "cell_type": "markdown",
   "id": "0e46d537-9064-4b64-bb5d-b7344d0195db",
   "metadata": {},
   "source": [
    "## Create a virtual display for visualizing the environment"
   ]
  },
  {
   "cell_type": "code",
   "execution_count": 4,
   "id": "d4c0021e-90b6-4317-92e7-fb68405ad135",
   "metadata": {},
   "outputs": [
    {
     "data": {
      "text/plain": [
       "<pyvirtualdisplay.display.Display at 0x7fefa4567a90>"
      ]
     },
     "execution_count": 4,
     "metadata": {},
     "output_type": "execute_result"
    }
   ],
   "source": [
    "from pyvirtualdisplay import Display\n",
    "\n",
    "virtual_display = Display(visible=0, size=(1400, 900))\n",
    "virtual_display.start()"
   ]
  },
  {
   "cell_type": "markdown",
   "id": "264d6ce6-07d7-440e-9dde-d9569e6a4257",
   "metadata": {},
   "source": [
    "## Instantiate the agent using PPO (Proximal Policy Optimization) algorithm"
   ]
  },
  {
   "cell_type": "code",
   "execution_count": 5,
   "id": "bf601fe3-19ba-4a4e-af41-f000ba04878f",
   "metadata": {},
   "outputs": [
    {
     "name": "stdout",
     "output_type": "stream",
     "text": [
      "Using cuda device\n",
      "Wrapping the env with a `Monitor` wrapper\n",
      "Wrapping the env in a DummyVecEnv.\n"
     ]
    }
   ],
   "source": [
    "model = PPO(\n",
    "    policy = 'MlpPolicy',\n",
    "    env = env,\n",
    "    n_steps = 1024,\n",
    "    batch_size = 64,\n",
    "    n_epochs = 4,\n",
    "    gamma = 0.999,\n",
    "    gae_lambda = 0.98,\n",
    "    ent_coef = 0.01,\n",
    "    verbose=1)"
   ]
  },
  {
   "cell_type": "markdown",
   "id": "c2551534-8af2-4dd3-866b-322c09980311",
   "metadata": {},
   "source": [
    "## Train the model"
   ]
  },
  {
   "cell_type": "code",
   "execution_count": null,
   "id": "1b7af0b1-db03-47d9-8355-0325b83004f1",
   "metadata": {
    "editable": true,
    "slideshow": {
     "slide_type": ""
    },
    "tags": []
   },
   "outputs": [
    {
     "name": "stdout",
     "output_type": "stream",
     "text": [
      "---------------------------------\n",
      "| rollout/           |          |\n",
      "|    ep_len_mean     | 82.1     |\n",
      "|    ep_rew_mean     | -185     |\n",
      "| time/              |          |\n",
      "|    fps             | 47       |\n",
      "|    iterations      | 1        |\n",
      "|    time_elapsed    | 21       |\n",
      "|    total_timesteps | 1024     |\n",
      "---------------------------------\n",
      "-------------------------------------------\n",
      "| rollout/                |               |\n",
      "|    ep_len_mean          | 88.5          |\n",
      "|    ep_rew_mean          | -148          |\n",
      "| time/                   |               |\n",
      "|    fps                  | 47            |\n",
      "|    iterations           | 2             |\n",
      "|    time_elapsed         | 43            |\n",
      "|    total_timesteps      | 2048          |\n",
      "| train/                  |               |\n",
      "|    approx_kl            | 0.000739528   |\n",
      "|    clip_fraction        | 0             |\n",
      "|    clip_range           | 0.2           |\n",
      "|    entropy_loss         | -1.39         |\n",
      "|    explained_variance   | 0.00074738264 |\n",
      "|    learning_rate        | 0.0003        |\n",
      "|    loss                 | 3.82e+03      |\n",
      "|    n_updates            | 4             |\n",
      "|    policy_gradient_loss | -0.00236      |\n",
      "|    value_loss           | 7.18e+03      |\n",
      "-------------------------------------------\n",
      "-------------------------------------------\n",
      "| rollout/                |               |\n",
      "|    ep_len_mean          | 89.7          |\n",
      "|    ep_rew_mean          | -169          |\n",
      "| time/                   |               |\n",
      "|    fps                  | 47            |\n",
      "|    iterations           | 3             |\n",
      "|    time_elapsed         | 64            |\n",
      "|    total_timesteps      | 3072          |\n",
      "| train/                  |               |\n",
      "|    approx_kl            | 0.000791059   |\n",
      "|    clip_fraction        | 0             |\n",
      "|    clip_range           | 0.2           |\n",
      "|    entropy_loss         | -1.38         |\n",
      "|    explained_variance   | -0.0050934553 |\n",
      "|    learning_rate        | 0.0003        |\n",
      "|    loss                 | 1.81e+03      |\n",
      "|    n_updates            | 8             |\n",
      "|    policy_gradient_loss | -0.00222      |\n",
      "|    value_loss           | 3e+03         |\n",
      "-------------------------------------------\n",
      "------------------------------------------\n",
      "| rollout/                |              |\n",
      "|    ep_len_mean          | 90.6         |\n",
      "|    ep_rew_mean          | -171         |\n",
      "| time/                   |              |\n",
      "|    fps                  | 47           |\n",
      "|    iterations           | 4            |\n",
      "|    time_elapsed         | 86           |\n",
      "|    total_timesteps      | 4096         |\n",
      "| train/                  |              |\n",
      "|    approx_kl            | 0.0004762665 |\n",
      "|    clip_fraction        | 0            |\n",
      "|    clip_range           | 0.2          |\n",
      "|    entropy_loss         | -1.38        |\n",
      "|    explained_variance   | -0.022709131 |\n",
      "|    learning_rate        | 0.0003       |\n",
      "|    loss                 | 4.43e+03     |\n",
      "|    n_updates            | 12           |\n",
      "|    policy_gradient_loss | -0.00196     |\n",
      "|    value_loss           | 8.51e+03     |\n",
      "------------------------------------------\n",
      "-----------------------------------------\n",
      "| rollout/                |             |\n",
      "|    ep_len_mean          | 93          |\n",
      "|    ep_rew_mean          | -167        |\n",
      "| time/                   |             |\n",
      "|    fps                  | 47          |\n",
      "|    iterations           | 5           |\n",
      "|    time_elapsed         | 108         |\n",
      "|    total_timesteps      | 5120        |\n",
      "| train/                  |             |\n",
      "|    approx_kl            | 0.000476175 |\n",
      "|    clip_fraction        | 0           |\n",
      "|    clip_range           | 0.2         |\n",
      "|    entropy_loss         | -1.38       |\n",
      "|    explained_variance   | -0.01668334 |\n",
      "|    learning_rate        | 0.0003      |\n",
      "|    loss                 | 2.4e+03     |\n",
      "|    n_updates            | 16          |\n",
      "|    policy_gradient_loss | -0.0014     |\n",
      "|    value_loss           | 5.98e+03    |\n",
      "-----------------------------------------\n",
      "-------------------------------------------\n",
      "| rollout/                |               |\n",
      "|    ep_len_mean          | 94.9          |\n",
      "|    ep_rew_mean          | -158          |\n",
      "| time/                   |               |\n",
      "|    fps                  | 47            |\n",
      "|    iterations           | 6             |\n",
      "|    time_elapsed         | 129           |\n",
      "|    total_timesteps      | 6144          |\n",
      "| train/                  |               |\n",
      "|    approx_kl            | 0.00047502381 |\n",
      "|    clip_fraction        | 0             |\n",
      "|    clip_range           | 0.2           |\n",
      "|    entropy_loss         | -1.38         |\n",
      "|    explained_variance   | -0.012021422  |\n",
      "|    learning_rate        | 0.0003        |\n",
      "|    loss                 | 2.32e+03      |\n",
      "|    n_updates            | 20            |\n",
      "|    policy_gradient_loss | -0.00105      |\n",
      "|    value_loss           | 4.8e+03       |\n",
      "-------------------------------------------\n",
      "-------------------------------------------\n",
      "| rollout/                |               |\n",
      "|    ep_len_mean          | 94.8          |\n",
      "|    ep_rew_mean          | -161          |\n",
      "| time/                   |               |\n",
      "|    fps                  | 47            |\n",
      "|    iterations           | 7             |\n",
      "|    time_elapsed         | 151           |\n",
      "|    total_timesteps      | 7168          |\n",
      "| train/                  |               |\n",
      "|    approx_kl            | 0.0005909739  |\n",
      "|    clip_fraction        | 0             |\n",
      "|    clip_range           | 0.2           |\n",
      "|    entropy_loss         | -1.38         |\n",
      "|    explained_variance   | -0.0103417635 |\n",
      "|    learning_rate        | 0.0003        |\n",
      "|    loss                 | 750           |\n",
      "|    n_updates            | 24            |\n",
      "|    policy_gradient_loss | -0.0012       |\n",
      "|    value_loss           | 1.41e+03      |\n",
      "-------------------------------------------\n",
      "-------------------------------------------\n",
      "| rollout/                |               |\n",
      "|    ep_len_mean          | 94.6          |\n",
      "|    ep_rew_mean          | -158          |\n",
      "| time/                   |               |\n",
      "|    fps                  | 47            |\n",
      "|    iterations           | 8             |\n",
      "|    time_elapsed         | 172           |\n",
      "|    total_timesteps      | 8192          |\n",
      "| train/                  |               |\n",
      "|    approx_kl            | 0.00059634657 |\n",
      "|    clip_fraction        | 0             |\n",
      "|    clip_range           | 0.2           |\n",
      "|    entropy_loss         | -1.38         |\n",
      "|    explained_variance   | -0.0061997175 |\n",
      "|    learning_rate        | 0.0003        |\n",
      "|    loss                 | 1.74e+03      |\n",
      "|    n_updates            | 28            |\n",
      "|    policy_gradient_loss | -0.00153      |\n",
      "|    value_loss           | 3.47e+03      |\n",
      "-------------------------------------------\n",
      "--------------------------------------------\n",
      "| rollout/                |                |\n",
      "|    ep_len_mean          | 93.2           |\n",
      "|    ep_rew_mean          | -151           |\n",
      "| time/                   |                |\n",
      "|    fps                  | 47             |\n",
      "|    iterations           | 9              |\n",
      "|    time_elapsed         | 194            |\n",
      "|    total_timesteps      | 9216           |\n",
      "| train/                  |                |\n",
      "|    approx_kl            | 0.003692132    |\n",
      "|    clip_fraction        | 0.00122        |\n",
      "|    clip_range           | 0.2            |\n",
      "|    entropy_loss         | -1.38          |\n",
      "|    explained_variance   | -0.00034928322 |\n",
      "|    learning_rate        | 0.0003         |\n",
      "|    loss                 | 1.57e+03       |\n",
      "|    n_updates            | 32             |\n",
      "|    policy_gradient_loss | -0.00679       |\n",
      "|    value_loss           | 2.76e+03       |\n",
      "--------------------------------------------\n",
      "-------------------------------------------\n",
      "| rollout/                |               |\n",
      "|    ep_len_mean          | 93.8          |\n",
      "|    ep_rew_mean          | -145          |\n",
      "| time/                   |               |\n",
      "|    fps                  | 47            |\n",
      "|    iterations           | 10            |\n",
      "|    time_elapsed         | 215           |\n",
      "|    total_timesteps      | 10240         |\n",
      "| train/                  |               |\n",
      "|    approx_kl            | 0.0007896448  |\n",
      "|    clip_fraction        | 0             |\n",
      "|    clip_range           | 0.2           |\n",
      "|    entropy_loss         | -1.37         |\n",
      "|    explained_variance   | -0.0044692755 |\n",
      "|    learning_rate        | 0.0003        |\n",
      "|    loss                 | 878           |\n",
      "|    n_updates            | 36            |\n",
      "|    policy_gradient_loss | -0.00294      |\n",
      "|    value_loss           | 1.55e+03      |\n",
      "-------------------------------------------\n",
      "-------------------------------------------\n",
      "| rollout/                |               |\n",
      "|    ep_len_mean          | 93.9          |\n",
      "|    ep_rew_mean          | -149          |\n",
      "| time/                   |               |\n",
      "|    fps                  | 47            |\n",
      "|    iterations           | 11            |\n",
      "|    time_elapsed         | 237           |\n",
      "|    total_timesteps      | 11264         |\n",
      "| train/                  |               |\n",
      "|    approx_kl            | 0.00082007016 |\n",
      "|    clip_fraction        | 0             |\n",
      "|    clip_range           | 0.2           |\n",
      "|    entropy_loss         | -1.37         |\n",
      "|    explained_variance   | -0.01724732   |\n",
      "|    learning_rate        | 0.0003        |\n",
      "|    loss                 | 1.07e+03      |\n",
      "|    n_updates            | 40            |\n",
      "|    policy_gradient_loss | -0.00235      |\n",
      "|    value_loss           | 2.82e+03      |\n",
      "-------------------------------------------\n",
      "--------------------------------------------\n",
      "| rollout/                |                |\n",
      "|    ep_len_mean          | 94.9           |\n",
      "|    ep_rew_mean          | -142           |\n",
      "| time/                   |                |\n",
      "|    fps                  | 47             |\n",
      "|    iterations           | 12             |\n",
      "|    time_elapsed         | 258            |\n",
      "|    total_timesteps      | 12288          |\n",
      "| train/                  |                |\n",
      "|    approx_kl            | 0.0030509117   |\n",
      "|    clip_fraction        | 0              |\n",
      "|    clip_range           | 0.2            |\n",
      "|    entropy_loss         | -1.37          |\n",
      "|    explained_variance   | -0.00038218498 |\n",
      "|    learning_rate        | 0.0003         |\n",
      "|    loss                 | 1.67e+03       |\n",
      "|    n_updates            | 44             |\n",
      "|    policy_gradient_loss | -0.00446       |\n",
      "|    value_loss           | 3.2e+03        |\n",
      "--------------------------------------------\n",
      "-------------------------------------------\n",
      "| rollout/                |               |\n",
      "|    ep_len_mean          | 95.4          |\n",
      "|    ep_rew_mean          | -137          |\n",
      "| time/                   |               |\n",
      "|    fps                  | 47            |\n",
      "|    iterations           | 13            |\n",
      "|    time_elapsed         | 279           |\n",
      "|    total_timesteps      | 13312         |\n",
      "| train/                  |               |\n",
      "|    approx_kl            | 0.00040275278 |\n",
      "|    clip_fraction        | 0             |\n",
      "|    clip_range           | 0.2           |\n",
      "|    entropy_loss         | -1.37         |\n",
      "|    explained_variance   | -0.0019174814 |\n",
      "|    learning_rate        | 0.0003        |\n",
      "|    loss                 | 1.1e+03       |\n",
      "|    n_updates            | 48            |\n",
      "|    policy_gradient_loss | -0.00163      |\n",
      "|    value_loss           | 1.93e+03      |\n",
      "-------------------------------------------\n",
      "------------------------------------------\n",
      "| rollout/                |              |\n",
      "|    ep_len_mean          | 93.9         |\n",
      "|    ep_rew_mean          | -136         |\n",
      "| time/                   |              |\n",
      "|    fps                  | 47           |\n",
      "|    iterations           | 14           |\n",
      "|    time_elapsed         | 301          |\n",
      "|    total_timesteps      | 14336        |\n",
      "| train/                  |              |\n",
      "|    approx_kl            | 0.0008234596 |\n",
      "|    clip_fraction        | 0            |\n",
      "|    clip_range           | 0.2          |\n",
      "|    entropy_loss         | -1.37        |\n",
      "|    explained_variance   | 0.0002297163 |\n",
      "|    learning_rate        | 0.0003       |\n",
      "|    loss                 | 1.44e+03     |\n",
      "|    n_updates            | 52           |\n",
      "|    policy_gradient_loss | -0.00227     |\n",
      "|    value_loss           | 2.64e+03     |\n",
      "------------------------------------------\n",
      "--------------------------------------------\n",
      "| rollout/                |                |\n",
      "|    ep_len_mean          | 92.1           |\n",
      "|    ep_rew_mean          | -136           |\n",
      "| time/                   |                |\n",
      "|    fps                  | 47             |\n",
      "|    iterations           | 15             |\n",
      "|    time_elapsed         | 322            |\n",
      "|    total_timesteps      | 15360          |\n",
      "| train/                  |                |\n",
      "|    approx_kl            | 0.0025261773   |\n",
      "|    clip_fraction        | 0              |\n",
      "|    clip_range           | 0.2            |\n",
      "|    entropy_loss         | -1.37          |\n",
      "|    explained_variance   | -0.00091552734 |\n",
      "|    learning_rate        | 0.0003         |\n",
      "|    loss                 | 1.03e+03       |\n",
      "|    n_updates            | 56             |\n",
      "|    policy_gradient_loss | -0.0035        |\n",
      "|    value_loss           | 2e+03          |\n",
      "--------------------------------------------\n"
     ]
    }
   ],
   "source": [
    "model.learn(total_timesteps=1000000)"
   ]
  },
  {
   "cell_type": "markdown",
   "id": "1057aa83-0251-4b04-a688-1b013c2f3309",
   "metadata": {},
   "source": [
    "## Save the model"
   ]
  },
  {
   "cell_type": "code",
   "execution_count": null,
   "id": "c3620746-49b5-4901-839d-8c5fe48ed5e2",
   "metadata": {},
   "outputs": [],
   "source": [
    "model_name = \"ppo-LunarLander-v2\"\n",
    "model.save(model_name)"
   ]
  },
  {
   "cell_type": "markdown",
   "id": "4dc31385-718f-40a1-8550-9d46f8d9c614",
   "metadata": {},
   "source": [
    "## Evaluate the model"
   ]
  },
  {
   "cell_type": "code",
   "execution_count": null,
   "id": "4cdbd924-7c36-4968-9bcf-07751aee16d3",
   "metadata": {},
   "outputs": [],
   "source": [
    "eval_env = env\n",
    "mean_reward, std_reward = evaluate_policy(model, eval_env, n_eval_episodes=10, deterministic=True)\n",
    "print(f\"mean_reward={mean_reward:.2f} +/- {std_reward}\")"
   ]
  }
 ],
 "metadata": {
  "kernelspec": {
   "display_name": "Python 3 (ipykernel)",
   "language": "python",
   "name": "python3"
  },
  "language_info": {
   "codemirror_mode": {
    "name": "ipython",
    "version": 3
   },
   "file_extension": ".py",
   "mimetype": "text/x-python",
   "name": "python",
   "nbconvert_exporter": "python",
   "pygments_lexer": "ipython3",
   "version": "3.11.0rc1"
  }
 },
 "nbformat": 4,
 "nbformat_minor": 5
}
